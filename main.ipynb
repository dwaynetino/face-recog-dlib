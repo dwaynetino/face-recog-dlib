
#from face_util import compare_faces, face_rec
import face_recognition
import numpy as np
from PIL import Image, ImageDraw
from IPython.display import display

# This is an example of running face recognition on a single image
# and drawing a box around each person that was identified.

# Load a sample picture and learn how to recognize it.
# Barrack Obama
obama_image = face_recognition.load_image_file("./dataset/obama.jpg")
obama_face_encoding = face_recognition.face_encodings(obama_image)[0]

# Load a second sample picture and learn how to recognize it.
#Donald Trump
trump_image = face_recognition.load_image_file("./dataset/trump.jpg")
trump_face_encoding = face_recognition.face_encodings(trump_image)[0]

#Robert Mugabe
mugabe_image = face_recognition.load_image_file("./dataset/mugabe.jpg")
mugabe_face_encoding = face_recognition.face_encodings(mugabe_image)[0]

#Tinovimba Mawoyo
mawoyo_image = face_recognition.load_image_file("./dataset/mawoyo.jpg")
mawoyo_face_encoding = face_recognition.face_encodings(mawoyo_image)[0]



#KEVIN OWENS
#loading images
ko1_image = face_recognition.load_image_file("./dataset/kevin_owens/ko1.jpg")
ko2_image = face_recognition.load_image_file("./dataset/kevin_owens/ko1.jpg")

#training the images
ko1_face_encoding = face_recognition.face_encodings(ko1_image)[0]
ko2_face_encoding = face_recognition.face_encodings(ko2_image)[0]



#SONIA CHITORE
#loading images
sonia_image = face_recognition.load_image_file("./dataset/sonia/sonia.jpg")
sonia1_image = face_recognition.load_image_file("./dataset/sonia/sonia1.jpg")
sonia2_image = face_recognition.load_image_file("./dataset/sonia/sonia2.jpg")

#training images
sonia_face_encoding = face_recognition.face_encodings(sonia_image)[0]
sonia1_face_encoding = face_recognition.face_encodings(sonia1_image)[0]
sonia2_face_encoding = face_recognition.face_encodings(sonia2_image)[0]


#NYASHA MAWOYO
#loading images
nyasha1_image = face_recognition.load_image_file("./dataset/nyasha_mawoyo/nyasha1.jpg")
nyasha2_image = face_recognition.load_image_file("./dataset/nyasha_mawoyo/nyasha2.jpg")

#encoding faces
nyasha1_face_encoding = face_recognition.face_encodings(nyasha1_image)[0]
nyasha2_face_encoding = face_recognition.face_encodings(nyasha2_image)[0]


#Ratidzo Makombe
#loading images
rati1_image = face_recognition.load_image_file("./dataset/ratidzo/rati1.jpeg")
rati2_image = face_recognition.load_image_file("./dataset/ratidzo/rati2.jpeg")
rati3_image = face_recognition.load_image_file("./dataset/ratidzo/rati3.jpeg")

#encoding faces
rati1_face_encoding = face_recognition.face_encodings(rati1_image)[0]
rati2_face_encoding = face_recognition.face_encodings(rati2_image)[0]
rati3_face_encoding = face_recognition.face_encodings(rati3_image)[0]


# Create arrays of known face encodings and their names
known_face_encodings = [
    obama_face_encoding,
    trump_face_encoding,

    mugabe_face_encoding,
    mawoyo_face_encoding,

    #Kevin Owens
    ko1_face_encoding,
    ko2_face_encoding,

    #Sonia Chitore
    sonia_face_encoding,
    sonia1_face_encoding,
    sonia2_face_encoding,

    #Nyasha Mawoyo
    nyasha1_face_encoding,
    nyasha2_face_encoding,

    #Ratidzo Makombe
    rati1_face_encoding,
    rati2_face_encoding,
    rati3_face_encoding
]
known_face_names = [
    "Barack Obama",
    "Donald Trump",
    "Robert Mugabe",
    "Tino Mawoyo",

    #Kevin Owens
    "Kevin Owens",
    "Kevin Owens",


    #Sonia Chitore
    "Sonia Chitore",
    "Sonia Chitore",
    "Sonia Chitore",

    #Nyasha Mawoyo
    "Nyasha Mawoyo",
    "Nyasha Mawoyo"


    #Ratidzo Makombe
    "Ratidzo Makombe",
    "Ratidzo Makombe",
    "Ratidzo Makombe"
]
print('Learned encoding for', len(known_face_encodings), 'images.')
